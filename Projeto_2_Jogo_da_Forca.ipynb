{
 "cells": [
  {
   "cell_type": "markdown",
   "metadata": {
    "id": "TwbDxrN1bF-i"
   },
   "source": [
    "# Jogo da forca"
   ]
  },
  {
   "cell_type": "markdown",
   "metadata": {
    "id": "5rXybo_2cDdo"
   },
   "source": [
    "Nesse projeto, é desenvolvido um jogo da forca.\n",
    "\n",
    "Regras:\n",
    "- O objetivo deste jogo é adivinhar qual a palavra que está oculta. \n",
    "- A informação inicial que o jogador dispõe é a do número de letras que compõem a palavra.\n",
    "- Essas letras são representadas por traços no papel.\n",
    "- Quando o jogador acertar todas as letras, a palavra será exibida junto a uma mensagem de parabéns e o jogo é encerrado.\n",
    "- Se o jogador perder todas as chances, o desenho da forca é completado, a palavra é exibida e o jogo é encerrado."
   ]
  },
  {
   "cell_type": "markdown",
   "metadata": {},
   "source": [
    "### Banco de Imagens\n"
   ]
  },
  {
   "cell_type": "code",
   "execution_count": null,
   "metadata": {
    "executionInfo": {
     "elapsed": 6,
     "status": "ok",
     "timestamp": 1666662456441,
     "user": {
      "displayName": "Leandro Sabino",
      "userId": "13000378398137023188"
     },
     "user_tz": 180
    },
    "id": "dVbfca_tbx1B",
    "scrolled": false
   },
   "outputs": [],
   "source": [
    "import matplotlib.image as mpimg\n",
    "import matplotlib.pyplot as plt\n",
    "\n",
    "erro_0 = mpimg.imread('imagens/erro_0.png')\n",
    "erro_1 = mpimg.imread('imagens/erro_1.png')\n",
    "erro_2 = mpimg.imread('imagens/erro_2.png')\n",
    "erro_3 = mpimg.imread('imagens/erro_3.png')\n",
    "erro_4 = mpimg.imread('imagens/erro_4.png')\n",
    "erro_5 = mpimg.imread('imagens/erro_5.png')\n",
    "erro_6 = mpimg.imread('imagens/erro_6.png')\n",
    "\n",
    "erros = ( erro_0, erro_1, erro_2, erro_3, erro_4, erro_5, erro_6 )"
   ]
  },
  {
   "cell_type": "markdown",
   "metadata": {
    "id": "g5DoTo0R3aQT"
   },
   "source": [
    "# ESCOLHA DA PALAVRA ALEATÓRIA E RESENTAÇÃO DA PALAVRA COM _"
   ]
  },
  {
   "cell_type": "code",
   "execution_count": null,
   "metadata": {
    "executionInfo": {
     "elapsed": 2,
     "status": "ok",
     "timestamp": 1666662862147,
     "user": {
      "displayName": "Leandro Sabino",
      "userId": "13000378398137023188"
     },
     "user_tz": 180
    },
    "id": "1F1bIvWa3aNj"
   },
   "outputs": [],
   "source": [
    "from random import randint\n",
    "\n",
    "def palavra_aleatoria(frutas:str) -> str :\n",
    "    ''' Retorna uma fruta aleatoriamente e seus símbolos _ do tamanho da palavra'''\n",
    "\n",
    "    with open(frutas, 'r', encoding = \"utf-8\") as arquivo:\n",
    "        fruta = arquivo.readlines()\n",
    "\n",
    "    dic_frutas = {ch:val.replace('\\n','').replace('ç','c') for ch, val in enumerate(fruta, start = 1)}\n",
    "    fruta_aleatoria = dic_frutas[randint(1, len(dic_frutas))]\n",
    "    fruta_oculta = '_ ' * len(fruta_aleatoria)\n",
    "\n",
    "    return fruta_aleatoria, fruta_oculta\n"
   ]
  },
  {
   "cell_type": "markdown",
   "metadata": {
    "id": "Lw2dES_e3aFS"
   },
   "source": [
    "# Ao acertar uma letra substituir o _ pela letra nas posições corretas"
   ]
  },
  {
   "cell_type": "code",
   "execution_count": null,
   "metadata": {
    "executionInfo": {
     "elapsed": 303,
     "status": "ok",
     "timestamp": 1666662867388,
     "user": {
      "displayName": "Leandro Sabino",
      "userId": "13000378398137023188"
     },
     "user_tz": 180
    },
    "id": "7P8uN81A3aCR"
   },
   "outputs": [],
   "source": [
    "from IPython.display import clear_output \n",
    "import time\n",
    "\n",
    "def check_valido(chute):\n",
    "    ''' Valida se o usuário está selecionando apenas uma entrada, de letra do alfabeto, por vez'''\n",
    "    is_letra = chute.isalpha()\n",
    "    is_tamanho = len(chute) == 1\n",
    "\n",
    "    return all([is_letra, is_tamanho])\n",
    "\n",
    "\n",
    "\n",
    "def visualizacao(palavra_oculta:str, alfabeto, erro, letras_erradas, letras_certas):\n",
    "    ''' Visualiza todas as condições atuais do jogo e exibe\n",
    "    uma imagem que representa o estado atual do erro'''\n",
    "    \n",
    "    clear_output()\n",
    "    print('Letras disponíveis: ')\n",
    "    print(alfabeto)\n",
    "\n",
    "    print('\\n')\n",
    "\n",
    "    print('Letras erradas: ')\n",
    "    print(letras_erradas)\n",
    "\n",
    "    print('\\n')\n",
    "\n",
    "    print('Letras certas: ')\n",
    "    print(letras_certas)\n",
    "\n",
    "    imgplot = plt.imshow(erros[erro])\n",
    "    plt.show()\n",
    "    print('\\t\\t\\t',palavra_oculta, '\\n')\n",
    "  \n",
    "\n",
    "def start_jogo():\n",
    "    erro = 0\n",
    "    acerto = 0\n",
    "    letras = list(map(chr, range(97, 123)))\n",
    "    palavra, palavra_oculta = palavra_aleatoria('frutas.txt')\n",
    "    letras_erradas = []\n",
    "    letras_certas = []\n",
    "\n",
    "    fim = False\n",
    "    while not fim:\n",
    "      visualizacao(palavra_oculta, letras, erro, letras_erradas, letras_certas)\n",
    "      chute = input('Selecione uma letra: ').lower()\n",
    "\n",
    "      while not check_valido(chute):\n",
    "        print('Por favor, selecione apenas uma letra.\\n')\n",
    "        chute = input('Selecione uma letra: ').lower()\n",
    "    \n",
    "      if chute in palavra and chute not in letras_certas and chute not in letras_erradas:\n",
    "        acerto += 1\n",
    "        palavra_oculta = palavra_oculta.split(' ')\n",
    "        letras_certas.append(letras.pop(letras.index(chute)))\n",
    "\n",
    "        for idx, letra in enumerate(palavra):\n",
    "          if letra == chute:\n",
    "            palavra_oculta[idx] = chute\n",
    "          \n",
    "\n",
    "        palavra_oculta = ' '.join(palavra_oculta)\n",
    "\n",
    "      elif chute in letras_erradas or chute in letras_certas or chute not in letras:\n",
    "        print('Essa letra já foi selecionada. Por favor, selecione outra.')\n",
    "        time.sleep(2)\n",
    "      \n",
    "      else:\n",
    "        erro += 1\n",
    "        letras_erradas.append(chute)\n",
    "        letras.remove(chute)\n",
    "\n",
    "      if erro == 6:\n",
    "        clear_output()\n",
    "        imgplot = plt.imshow(erros[erro])\n",
    "        plt.show()\n",
    "        print('\\nEsgotou as alternativas.')\n",
    "        print(f'\\t\\t\\t A palavra {palavra_oculta} era {palavra}.')\n",
    "        fim = True\n",
    "\n",
    "      if '_ ' not in palavra_oculta:\n",
    "        visualizacao(palavra_oculta, letras, erro, letras_erradas, letras_certas)\n",
    "        print('Parabéns! Você acertou.')\n",
    "        fim = True\n",
    "    \n",
    "\n"
   ]
  },
  {
   "cell_type": "code",
   "execution_count": null,
   "metadata": {
    "id": "hZzCC7i43Z_M",
    "scrolled": false
   },
   "outputs": [],
   "source": [
    "start_jogo() "
   ]
  }
 ],
 "metadata": {
  "colab": {
   "collapsed_sections": [],
   "provenance": []
  },
  "kernelspec": {
   "display_name": "Python 3 (ipykernel)",
   "language": "python",
   "name": "python3"
  },
  "language_info": {
   "codemirror_mode": {
    "name": "ipython",
    "version": 3
   },
   "file_extension": ".py",
   "mimetype": "text/x-python",
   "name": "python",
   "nbconvert_exporter": "python",
   "pygments_lexer": "ipython3",
   "version": "3.9.12"
  }
 },
 "nbformat": 4,
 "nbformat_minor": 1
}
